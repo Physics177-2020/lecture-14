{
 "cells": [
  {
   "cell_type": "markdown",
   "metadata": {
    "colab_type": "text",
    "id": "KodsRibLZGlo"
   },
   "source": [
    "# Lecture 14: MCMC for the 2D Ising model\n",
    "\n",
    "Last time we discussed Markov chain Monte Carlo (MCMC) simulations in general terms. If there are only a small number of configurations to consider, then this is straightforward. But what if the system is more complicated? \n",
    "\n",
    "As an example, we'll consider writing down a set of MCMC rules for the 2D Ising model. A small (say, $10\\times10$) grid of spins already has many more configurations than are feasible to iterate over. \n",
    "\n",
    "Previously, we considered transition probabilities $T_{ij}$ between configurations labeled $i$ and $j$. The key relationship that the $T_{ij}$ need to satisfy is [detailed balance](https://en.wikipedia.org/wiki/Detailed_balance)\n",
    "\n",
    "$$\n",
    "P(i)T_{ij} = P(j)T_{ji}\\,,\n",
    "$$\n",
    "\n",
    "where $P(i)$ is the probability of configuration $i$. Our first step toward practically implementing the MCMC simulation is to note that detailed balance is satisfied for a pair of configurations when $T_{ij}=T_{ji}=0$. In other words, not all transition probabilities need to be nonzero! However, we clearly can't set all of the $T_{ij}$ to zero. At the very least, we need to ensure that there is a \"path\" of nonzero transition probabilities between any two configurations of the system, so that we never get \"stuck\" on a subset of the configuration space. \n",
    "\n",
    "Practically, it's often useful to define *local* dynamics on the configuration space. For example, for the Ising model, we can set the probability for transitions between configurations that differ by one spin flip to be nonzero, and set the probability of all other transitions that involve multiple spin flips to be zero. This is useful because configurations that are very similar are likely to also have similar energies, so our transitions are unlikely to be rejected. Some advanced simulation algorithms do allow for more extensive changes in configurations, but we will not cover these during the course.\n",
    "\n",
    "In the examples below, we'll use the [Metropolis rule](https://en.wikipedia.org/wiki/Metropolis%E2%80%93Hastings_algorithm) to set the transition probabilities for single spin flips,\n",
    "\n",
    "$$\n",
    "T_{ij} = \\begin{cases} \n",
    "1 \\qquad\\qquad\\,\\, \\text{if }E(j) < E(i)\\\\\n",
    "e^{-\\beta\\left(E(j) - E(i)\\right)} \\;\\; \\text{if }E(j) > E(i)\n",
    "\\end{cases} \\,.\n",
    "$$\n",
    "\n",
    "\n",
    "### Example: Laying out the 2D Ising model\n",
    "\n",
    "Let's start by simply writing down an array that holds the configuration of an Ising spin system."
   ]
  },
  {
   "cell_type": "code",
   "execution_count": 3,
   "metadata": {
    "colab": {
     "base_uri": "https://localhost:8080/",
     "height": 197
    },
    "colab_type": "code",
    "id": "MEh8l6jgZGlp",
    "outputId": "eddecf1c-a9f9-4e5a-cbb5-4454f9b081b7"
   },
   "outputs": [
    {
     "name": "stdout",
     "output_type": "stream",
     "text": [
      "[[1. 1. 1. 1. 1. 1. 1. 1. 1. 1.]\n",
      " [1. 1. 1. 1. 1. 1. 1. 1. 1. 1.]\n",
      " [1. 1. 1. 1. 1. 1. 1. 1. 1. 1.]\n",
      " [1. 1. 1. 1. 1. 1. 1. 1. 1. 1.]\n",
      " [1. 1. 1. 1. 1. 1. 1. 1. 1. 1.]\n",
      " [1. 1. 1. 1. 1. 1. 1. 1. 1. 1.]\n",
      " [1. 1. 1. 1. 1. 1. 1. 1. 1. 1.]\n",
      " [1. 1. 1. 1. 1. 1. 1. 1. 1. 1.]\n",
      " [1. 1. 1. 1. 1. 1. 1. 1. 1. 1.]\n",
      " [1. 1. 1. 1. 1. 1. 1. 1. 1. 1.]]\n"
     ]
    }
   ],
   "source": [
    "import numpy as np\n",
    "import numpy.random as rng\n",
    "\n",
    "# Set the system size (N x N)\n",
    "N = 10\n",
    "\n",
    "# Define the configuration\n",
    "s = np.ones((N, N)) # FILL THIS IN\n",
    "\n",
    "print(s)"
   ]
  },
  {
   "cell_type": "code",
   "execution_count": 0,
   "metadata": {
    "colab": {},
    "colab_type": "code",
    "id": "yGrbGXwdZGlt"
   },
   "outputs": [],
   "source": [
    "\n",
    "\n",
    "\n",
    "\n",
    "\n",
    "\n",
    "\n",
    "\n",
    "\n",
    "\n",
    "\n",
    "\n",
    "\n",
    "\n",
    "\n",
    "\n",
    "\n",
    "\n",
    "\n",
    "\n",
    "\n",
    "\n"
   ]
  },
  {
   "cell_type": "markdown",
   "metadata": {
    "colab_type": "text",
    "id": "70CLfTgVZGlw"
   },
   "source": [
    "### Steps of the MCMC algorithm\n",
    "\n",
    "As mentioned above, we'll only choose nonzero transition probabilities for configurations that differ by one spin flip. In that case, the steps of our MCMC algorithm are as follows:\n",
    "\n",
    "1. Select a spin\n",
    "2. Compute the probability $P$ for that spin to flip\n",
    "3. Draw a random number $r\\in[0, 1)$ and flip if $r < P$\n",
    "\n",
    "Let's run through the steps below.\n",
    "\n",
    "### Step 1. Selecting a spin\n",
    "\n",
    "How should we choose a spin to try to flip? A reasonable choice would be to pick the spin totally at random. We can do this by picking the corresponding lattice coordinates $(i, j)$ at random. Let's try this below."
   ]
  },
  {
   "cell_type": "code",
   "execution_count": 8,
   "metadata": {
    "colab": {
     "base_uri": "https://localhost:8080/",
     "height": 35
    },
    "colab_type": "code",
    "id": "6g-SiWENZGlx",
    "outputId": "8f3dd017-53a0-42f4-ef22-995a49b9c315"
   },
   "outputs": [
    {
     "name": "stdout",
     "output_type": "stream",
     "text": [
      "2 5\n"
     ]
    }
   ],
   "source": [
    "i = rng.choice(N) # FILL THIS IN\n",
    "j = rng.choice(N) # FILL THIS IN\n",
    "\n",
    "print(i, j)"
   ]
  },
  {
   "cell_type": "code",
   "execution_count": 0,
   "metadata": {
    "colab": {},
    "colab_type": "code",
    "id": "owmp6mWNZGl0"
   },
   "outputs": [],
   "source": [
    "\n",
    "\n",
    "\n",
    "\n",
    "\n",
    "\n",
    "\n",
    "\n",
    "\n",
    "\n",
    "\n",
    "\n",
    "\n",
    "\n",
    "\n",
    "\n",
    "\n",
    "\n",
    "\n",
    "\n",
    "\n",
    "\n"
   ]
  },
  {
   "cell_type": "markdown",
   "metadata": {
    "colab_type": "text",
    "id": "lOrIqPUHZGl4"
   },
   "source": [
    "### Step 2. Computing the probability of a spin flip\n",
    "\n",
    "Recall the Metropolis rule for computing the transition probability between two configurations labeled by $i$ and $j$,\n",
    "\n",
    "$$\n",
    "T_{ij} = \\begin{cases} \n",
    "1 \\qquad\\qquad\\,\\, \\text{if }E(j) < E(i)\\\\\n",
    "e^{-\\beta\\left(E(j) - E(i)\\right)} \\;\\; \\text{if }E(j) > E(i)\n",
    "\\end{cases} \\,.\n",
    "$$\n",
    "\n",
    "**Note: the $i$ and $j$ in this formula are not the same as the $i$ and $j$ lattice coordinates that we chose above!** Instead, here $i$ represents our starting configuration (without the spin flip), and $j$ represents the configuration with the spin flip. \n",
    "\n",
    "In this case, our energy function is\n",
    "\n",
    "$$\n",
    "E(\\underline{\\sigma}) = -\\sum_{i=1}^{N}\\sum_{j=1}^{N} J \\left(\\sigma_{i,j} \\sigma_{i+1,j} + \\sigma_{i,j}\\sigma_{i,j+1}\\right)\\,.\n",
    "$$\n",
    "\n",
    "To make things a little bit simpler for us, we can choose *periodic boundary conditions* for our lattice, so that the $N$th spin is a nearest neighbor of the $1$st spin. In the equation above the index $N+1$ would thus correspond to $1$. Topologically, then, our 2D lattice is a torus.\n",
    "\n",
    "**Exercise**: In the code block below, write an expression for the *change in energy* of the configuration `s` if the spin at site $(i, j)$ was flipped to have the opposite sign. Recall that the value of the spin at that site is given by `s[i, j]`."
   ]
  },
  {
   "cell_type": "code",
   "execution_count": 13,
   "metadata": {
    "colab": {
     "base_uri": "https://localhost:8080/",
     "height": 35
    },
    "colab_type": "code",
    "id": "eCwkl6zhZGl6",
    "outputId": "9b05462d-b1b1-4952-f7b2-94f78719fc8b"
   },
   "outputs": [
    {
     "name": "stdout",
     "output_type": "stream",
     "text": [
      "0.8\n"
     ]
    }
   ],
   "source": [
    "J = 0.1\n",
    "\n",
    "delta_E = 2*J*s[i,j]*(s[(i-1)%N,j]+s[(i+1)%N,j]+s[i,(j-1)]+s[i,(j+1)%N]) # FILL THIS IN\n",
    "\n",
    "print(delta_E)"
   ]
  },
  {
   "cell_type": "code",
   "execution_count": 0,
   "metadata": {
    "colab": {},
    "colab_type": "code",
    "id": "vlb-dusAZGl9"
   },
   "outputs": [],
   "source": [
    "\n",
    "\n",
    "\n",
    "\n",
    "\n",
    "\n",
    "\n",
    "\n",
    "\n",
    "\n",
    "\n",
    "\n",
    "\n",
    "\n",
    "\n",
    "\n",
    "\n",
    "\n",
    "\n",
    "\n",
    "\n",
    "\n"
   ]
  },
  {
   "cell_type": "markdown",
   "metadata": {
    "colab_type": "text",
    "id": "64Vcy925ZGmB"
   },
   "source": [
    "Next we need to use `delta_E` to compute the probability of flipping the spin. According to the Metropolis rule, this is one if the energy decreases, else it is $\\exp(-\\beta \\Delta E)$. Below we'll assume for simplicity that $T = 1/\\beta = 1$."
   ]
  },
  {
   "cell_type": "code",
   "execution_count": 14,
   "metadata": {
    "colab": {
     "base_uri": "https://localhost:8080/",
     "height": 35
    },
    "colab_type": "code",
    "id": "NAQplxIgZGmB",
    "outputId": "4a8bf837-b819-40f3-dcf0-d65eaa049f3c"
   },
   "outputs": [
    {
     "name": "stdout",
     "output_type": "stream",
     "text": [
      "The probability of flipping spin (2, 5) is 0.449329\n"
     ]
    }
   ],
   "source": [
    "P = 1                     # this would be the probability if delta_E is negative\n",
    "if delta_E>0:             # is delta_E positive?\n",
    "    P = np.exp(-delta_E)  # if so, set the proper value for P\n",
    "    \n",
    "print('The probability of flipping spin (%d, %d) is %lf' % (i, j, P))"
   ]
  },
  {
   "cell_type": "code",
   "execution_count": 0,
   "metadata": {
    "colab": {},
    "colab_type": "code",
    "id": "HbJQIvtDZGmE"
   },
   "outputs": [],
   "source": [
    "\n",
    "\n",
    "\n",
    "\n",
    "\n",
    "\n",
    "\n",
    "\n",
    "\n",
    "\n",
    "\n",
    "\n",
    "\n",
    "\n",
    "\n",
    "\n",
    "\n",
    "\n",
    "\n",
    "\n",
    "\n",
    "\n"
   ]
  },
  {
   "cell_type": "markdown",
   "metadata": {
    "colab_type": "text",
    "id": "SZFwcjDbZGmG"
   },
   "source": [
    "### Step 3. Test and flip (or not)\n",
    "\n",
    "Now that we know the probability of a spin flip, we just need to generate a random number and use it to determine whether or not the spin will change value. For this we'll use `numpy`."
   ]
  },
  {
   "cell_type": "code",
   "execution_count": 15,
   "metadata": {
    "colab": {
     "base_uri": "https://localhost:8080/",
     "height": 35
    },
    "colab_type": "code",
    "id": "EDrzIf49ZGmH",
    "outputId": "fa02c9db-2a12-47dc-9980-8ea4fb7196e5"
   },
   "outputs": [
    {
     "name": "stdout",
     "output_type": "stream",
     "text": [
      "Got r = 0.147581, the value of spin (2, 5) is now -1\n"
     ]
    }
   ],
   "source": [
    "r = rng.rand()    # choose a random number\n",
    "if r<P:           # check: is r < P?\n",
    "    s[i, j] *= -1 # if so, set s[i, j] to its negative (i.e., flip the spin!)\n",
    "\n",
    "print('Got r = %lf, the value of spin (%d, %d) is now %d' % (r, i, j, s[i, j]))"
   ]
  },
  {
   "cell_type": "code",
   "execution_count": 0,
   "metadata": {
    "colab": {},
    "colab_type": "code",
    "id": "FErUDg5zZGmJ"
   },
   "outputs": [],
   "source": [
    "\n",
    "\n",
    "\n",
    "\n",
    "\n",
    "\n",
    "\n",
    "\n",
    "\n",
    "\n",
    "\n",
    "\n",
    "\n",
    "\n",
    "\n",
    "\n",
    "\n",
    "\n",
    "\n",
    "\n",
    "\n",
    "\n"
   ]
  },
  {
   "cell_type": "markdown",
   "metadata": {
    "colab_type": "text",
    "id": "MwfRzX6RZGmL"
   },
   "source": [
    "### Reflect\n",
    "\n",
    "Does the dynamics described above satisfy detailed balance? Is it possible to transition between all possible configurations of the system?\n",
    "\n",
    "How would you scale up the steps above to run a long simulation of the Ising system?"
   ]
  }
 ],
 "metadata": {
  "colab": {
   "name": "lecture-14.ipynb",
   "provenance": [],
   "version": "0.3.2"
  },
  "kernelspec": {
   "display_name": "Python 3",
   "language": "python",
   "name": "python3"
  },
  "language_info": {
   "codemirror_mode": {
    "name": "ipython",
    "version": 3
   },
   "file_extension": ".py",
   "mimetype": "text/x-python",
   "name": "python",
   "nbconvert_exporter": "python",
   "pygments_lexer": "ipython3",
   "version": "3.7.7"
  }
 },
 "nbformat": 4,
 "nbformat_minor": 1
}
